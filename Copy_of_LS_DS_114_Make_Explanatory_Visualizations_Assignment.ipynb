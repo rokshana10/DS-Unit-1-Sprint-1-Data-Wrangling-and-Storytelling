{
  "nbformat": 4,
  "nbformat_minor": 0,
  "metadata": {
    "colab": {
      "name": "Copy of LS_DS_114_Make_Explanatory_Visualizations_Assignment.ipynb",
      "provenance": [],
      "collapsed_sections": [],
      "include_colab_link": true
    },
    "language_info": {
      "codemirror_mode": {
        "name": "ipython",
        "version": 3
      },
      "file_extension": ".py",
      "mimetype": "text/x-python",
      "name": "python",
      "nbconvert_exporter": "python",
      "pygments_lexer": "ipython3",
      "version": "3.7.1"
    },
    "kernelspec": {
      "display_name": "Python 3",
      "language": "python",
      "name": "python3"
    }
  },
  "cells": [
    {
      "cell_type": "markdown",
      "metadata": {
        "id": "view-in-github",
        "colab_type": "text"
      },
      "source": [
        "<a href=\"https://colab.research.google.com/github/rokshana10/DS-Unit-1-Sprint-1-Data-Wrangling-and-Storytelling/blob/master/Copy_of_LS_DS_114_Make_Explanatory_Visualizations_Assignment.ipynb\" target=\"_parent\"><img src=\"https://colab.research.google.com/assets/colab-badge.svg\" alt=\"Open In Colab\"/></a>"
      ]
    },
    {
      "cell_type": "markdown",
      "metadata": {
        "colab_type": "text",
        "id": "NMEswXWh9mqw"
      },
      "source": [
        "Lambda School Data Science\n",
        "\n",
        "*Unit 1, Sprint 1, Module 4*\n",
        "\n",
        "---\n",
        "\n",
        "# ASSIGNMENT\n",
        "\n",
        "### 1) Replicate the lesson code. I recommend that you [do not copy-paste](https://docs.google.com/document/d/1ubOw9B3Hfip27hF2ZFnW3a3z9xAgrUDRReOEo-FHCVs/edit).\n",
        "\n",
        "Get caught up to where we got our example in class and then try and take things further. How close to \"pixel perfect\" can you make the lecture graph?\n",
        "\n",
        "Once you have something that you're proud of, share your graph in the cohort channel and move on to the second exercise.\n",
        "\n",
        "### 2) Reproduce another example from [FiveThityEight's shared data repository](https://data.fivethirtyeight.com/).\n",
        "\n",
        "**WARNING**: There are a lot of very custom graphs and tables at the above link. I **highly** recommend not trying to reproduce any that look like a table of values or something really different from the graph types that we are already familiar with. Search through the posts until you find a graph type that you are more or less familiar with: histogram, bar chart, stacked bar chart, line chart, [seaborn relplot](https://seaborn.pydata.org/generated/seaborn.relplot.html), etc. Recreating some of the graphics that 538 uses would be a lot easier in Adobe photoshop/illustrator than with matplotlib. \n",
        "\n",
        "- If you put in some time to find a graph that looks \"easy\" to replicate you'll probably find that it's not as easy as you thought. \n",
        "\n",
        "- If you start with a graph that looks hard to replicate you'll probably run up against a brick wall and be disappointed with your afternoon.\n",
        "\n",
        "\n",
        "\n",
        "\n",
        "\n",
        "\n",
        "\n",
        "\n",
        "\n",
        "\n"
      ]
    },
    {
      "cell_type": "code",
      "metadata": {
        "id": "7SY1ZHawyZvz",
        "colab_type": "code",
        "colab": {}
      },
      "source": [
        "# Your Work Here"
      ],
      "execution_count": 0,
      "outputs": []
    },
    {
      "cell_type": "code",
      "metadata": {
        "id": "CYBbqAO-NO0j",
        "colab_type": "code",
        "colab": {}
      },
      "source": [
        "import pandas as pd\n",
        "import numpy as np\n",
        "import matplotlib.pyplot as plt\n",
        "import seaborn as sns\n",
        "%matplotlib inline"
      ],
      "execution_count": 0,
      "outputs": []
    },
    {
      "cell_type": "code",
      "metadata": {
        "id": "XdJfOSO_R5m0",
        "colab_type": "code",
        "colab": {}
      },
      "source": [
        "df = pd.read_csv('https://projects.fivethirtyeight.com/soccer-api/club/spi_global_rankings.csv')"
      ],
      "execution_count": 0,
      "outputs": []
    },
    {
      "cell_type": "code",
      "metadata": {
        "id": "ytBdBzOlSiD4",
        "colab_type": "code",
        "outputId": "bdc66fb5-3e68-4005-9f87-21976d0d74d6",
        "colab": {
          "base_uri": "https://localhost:8080/",
          "height": 195
        }
      },
      "source": [
        "df.head()"
      ],
      "execution_count": 86,
      "outputs": [
        {
          "output_type": "execute_result",
          "data": {
            "text/html": [
              "<div>\n",
              "<style scoped>\n",
              "    .dataframe tbody tr th:only-of-type {\n",
              "        vertical-align: middle;\n",
              "    }\n",
              "\n",
              "    .dataframe tbody tr th {\n",
              "        vertical-align: top;\n",
              "    }\n",
              "\n",
              "    .dataframe thead th {\n",
              "        text-align: right;\n",
              "    }\n",
              "</style>\n",
              "<table border=\"1\" class=\"dataframe\">\n",
              "  <thead>\n",
              "    <tr style=\"text-align: right;\">\n",
              "      <th></th>\n",
              "      <th>rank</th>\n",
              "      <th>prev_rank</th>\n",
              "      <th>name</th>\n",
              "      <th>league</th>\n",
              "      <th>off</th>\n",
              "      <th>def</th>\n",
              "      <th>spi</th>\n",
              "    </tr>\n",
              "  </thead>\n",
              "  <tbody>\n",
              "    <tr>\n",
              "      <th>0</th>\n",
              "      <td>1</td>\n",
              "      <td>1</td>\n",
              "      <td>Manchester City</td>\n",
              "      <td>Barclays Premier League</td>\n",
              "      <td>3.16</td>\n",
              "      <td>0.21</td>\n",
              "      <td>94.80</td>\n",
              "    </tr>\n",
              "    <tr>\n",
              "      <th>1</th>\n",
              "      <td>2</td>\n",
              "      <td>2</td>\n",
              "      <td>Bayern Munich</td>\n",
              "      <td>German Bundesliga</td>\n",
              "      <td>3.50</td>\n",
              "      <td>0.38</td>\n",
              "      <td>94.44</td>\n",
              "    </tr>\n",
              "    <tr>\n",
              "      <th>2</th>\n",
              "      <td>3</td>\n",
              "      <td>3</td>\n",
              "      <td>Liverpool</td>\n",
              "      <td>Barclays Premier League</td>\n",
              "      <td>2.87</td>\n",
              "      <td>0.31</td>\n",
              "      <td>91.91</td>\n",
              "    </tr>\n",
              "    <tr>\n",
              "      <th>3</th>\n",
              "      <td>4</td>\n",
              "      <td>4</td>\n",
              "      <td>Barcelona</td>\n",
              "      <td>Spanish Primera Division</td>\n",
              "      <td>2.90</td>\n",
              "      <td>0.43</td>\n",
              "      <td>90.33</td>\n",
              "    </tr>\n",
              "    <tr>\n",
              "      <th>4</th>\n",
              "      <td>5</td>\n",
              "      <td>5</td>\n",
              "      <td>Real Madrid</td>\n",
              "      <td>Spanish Primera Division</td>\n",
              "      <td>2.67</td>\n",
              "      <td>0.37</td>\n",
              "      <td>89.49</td>\n",
              "    </tr>\n",
              "  </tbody>\n",
              "</table>\n",
              "</div>"
            ],
            "text/plain": [
              "   rank  prev_rank             name  ...   off   def    spi\n",
              "0     1          1  Manchester City  ...  3.16  0.21  94.80\n",
              "1     2          2    Bayern Munich  ...  3.50  0.38  94.44\n",
              "2     3          3        Liverpool  ...  2.87  0.31  91.91\n",
              "3     4          4        Barcelona  ...  2.90  0.43  90.33\n",
              "4     5          5      Real Madrid  ...  2.67  0.37  89.49\n",
              "\n",
              "[5 rows x 7 columns]"
            ]
          },
          "metadata": {
            "tags": []
          },
          "execution_count": 86
        }
      ]
    },
    {
      "cell_type": "code",
      "metadata": {
        "id": "tiKTYhKBIOv3",
        "colab_type": "code",
        "colab": {
          "base_uri": "https://localhost:8080/",
          "height": 195
        },
        "outputId": "69840183-67cc-4f25-d586-cb88ee34bdf0"
      },
      "source": [
        "df['prev_rank_class'] = df['prev_rank'].map({1:'first', 2:'second', 3:'third'})\n",
        "df[['prev_rank', 'prev_rank_class']].sample(5)"
      ],
      "execution_count": 87,
      "outputs": [
        {
          "output_type": "execute_result",
          "data": {
            "text/html": [
              "<div>\n",
              "<style scoped>\n",
              "    .dataframe tbody tr th:only-of-type {\n",
              "        vertical-align: middle;\n",
              "    }\n",
              "\n",
              "    .dataframe tbody tr th {\n",
              "        vertical-align: top;\n",
              "    }\n",
              "\n",
              "    .dataframe thead th {\n",
              "        text-align: right;\n",
              "    }\n",
              "</style>\n",
              "<table border=\"1\" class=\"dataframe\">\n",
              "  <thead>\n",
              "    <tr style=\"text-align: right;\">\n",
              "      <th></th>\n",
              "      <th>prev_rank</th>\n",
              "      <th>prev_rank_class</th>\n",
              "    </tr>\n",
              "  </thead>\n",
              "  <tbody>\n",
              "    <tr>\n",
              "      <th>376</th>\n",
              "      <td>377</td>\n",
              "      <td>NaN</td>\n",
              "    </tr>\n",
              "    <tr>\n",
              "      <th>307</th>\n",
              "      <td>307</td>\n",
              "      <td>NaN</td>\n",
              "    </tr>\n",
              "    <tr>\n",
              "      <th>49</th>\n",
              "      <td>50</td>\n",
              "      <td>NaN</td>\n",
              "    </tr>\n",
              "    <tr>\n",
              "      <th>66</th>\n",
              "      <td>68</td>\n",
              "      <td>NaN</td>\n",
              "    </tr>\n",
              "    <tr>\n",
              "      <th>282</th>\n",
              "      <td>269</td>\n",
              "      <td>NaN</td>\n",
              "    </tr>\n",
              "  </tbody>\n",
              "</table>\n",
              "</div>"
            ],
            "text/plain": [
              "     prev_rank prev_rank_class\n",
              "376        377             NaN\n",
              "307        307             NaN\n",
              "49          50             NaN\n",
              "66          68             NaN\n",
              "282        269             NaN"
            ]
          },
          "metadata": {
            "tags": []
          },
          "execution_count": 87
        }
      ]
    },
    {
      "cell_type": "code",
      "metadata": {
        "id": "9OpeCgP13Hxh",
        "colab_type": "code",
        "colab": {}
      },
      "source": [
        ""
      ],
      "execution_count": 0,
      "outputs": []
    },
    {
      "cell_type": "code",
      "metadata": {
        "colab_type": "code",
        "outputId": "f5c9d470-85d9-4bdf-d11e-51f225c279dc",
        "id": "uEElDZXO3ITC",
        "colab": {
          "base_uri": "https://localhost:8080/",
          "height": 195
        }
      },
      "source": [
        "df['prev_rank_class'] = df['prev_rank'].map({1:'first', 2:'second', 3:'third'})\n",
        "df[['prev_rank', 'prev_rank_class']].head(5)"
      ],
      "execution_count": 88,
      "outputs": [
        {
          "output_type": "execute_result",
          "data": {
            "text/html": [
              "<div>\n",
              "<style scoped>\n",
              "    .dataframe tbody tr th:only-of-type {\n",
              "        vertical-align: middle;\n",
              "    }\n",
              "\n",
              "    .dataframe tbody tr th {\n",
              "        vertical-align: top;\n",
              "    }\n",
              "\n",
              "    .dataframe thead th {\n",
              "        text-align: right;\n",
              "    }\n",
              "</style>\n",
              "<table border=\"1\" class=\"dataframe\">\n",
              "  <thead>\n",
              "    <tr style=\"text-align: right;\">\n",
              "      <th></th>\n",
              "      <th>prev_rank</th>\n",
              "      <th>prev_rank_class</th>\n",
              "    </tr>\n",
              "  </thead>\n",
              "  <tbody>\n",
              "    <tr>\n",
              "      <th>0</th>\n",
              "      <td>1</td>\n",
              "      <td>first</td>\n",
              "    </tr>\n",
              "    <tr>\n",
              "      <th>1</th>\n",
              "      <td>2</td>\n",
              "      <td>second</td>\n",
              "    </tr>\n",
              "    <tr>\n",
              "      <th>2</th>\n",
              "      <td>3</td>\n",
              "      <td>third</td>\n",
              "    </tr>\n",
              "    <tr>\n",
              "      <th>3</th>\n",
              "      <td>4</td>\n",
              "      <td>NaN</td>\n",
              "    </tr>\n",
              "    <tr>\n",
              "      <th>4</th>\n",
              "      <td>5</td>\n",
              "      <td>NaN</td>\n",
              "    </tr>\n",
              "  </tbody>\n",
              "</table>\n",
              "</div>"
            ],
            "text/plain": [
              "   prev_rank prev_rank_class\n",
              "0          1           first\n",
              "1          2          second\n",
              "2          3           third\n",
              "3          4             NaN\n",
              "4          5             NaN"
            ]
          },
          "metadata": {
            "tags": []
          },
          "execution_count": 88
        }
      ]
    },
    {
      "cell_type": "code",
      "metadata": {
        "id": "LiblSZJzTAzF",
        "colab_type": "code",
        "outputId": "820e3566-2d4b-445f-9a76-705c0738b626",
        "colab": {
          "base_uri": "https://localhost:8080/",
          "height": 279
        }
      },
      "source": [
        "# Histogram\n",
        "\n",
        "df['off'].plot(kind='hist', bins=15)"
      ],
      "execution_count": 89,
      "outputs": [
        {
          "output_type": "execute_result",
          "data": {
            "text/plain": [
              "<matplotlib.axes._subplots.AxesSubplot at 0x7efd9062a6a0>"
            ]
          },
          "metadata": {
            "tags": []
          },
          "execution_count": 89
        },
        {
          "output_type": "display_data",
          "data": {
            "image/png": "[encoded data removed]",
            "text/plain": [
              "<Figure size 432x288 with 1 Axes>"
            ]
          },
          "metadata": {
            "tags": []
          }
        }
      ]
    },
    {
      "cell_type": "code",
      "metadata": {
        "id": "WIdZ-dj_e_WL",
        "colab_type": "code",
        "outputId": "f1362176-b613-4485-b99c-b4516a44f7b8",
        "colab": {
          "base_uri": "https://localhost:8080/",
          "height": 262
        }
      },
      "source": [
        "df = df[df['off']<500]\n",
        "df['off'].plot(kind='hist', bins=15, color='#651f94');"
      ],
      "execution_count": 90,
      "outputs": [
        {
          "output_type": "display_data",
          "data": {
            "image/png": "[encoded data removed]",
            "text/plain": [
              "<Figure size 432x288 with 1 Axes>"
            ]
          },
          "metadata": {
            "tags": []
          }
        }
      ]
    },
    {
      "cell_type": "code",
      "metadata": {
        "id": "5yqvmYUIWDzd",
        "colab_type": "code",
        "outputId": "dfc74652-acff-4fc1-f8f7-ebc77b2fb69a",
        "colab": {
          "base_uri": "https://localhost:8080/",
          "height": 67
        }
      },
      "source": [
        "df.columns"
      ],
      "execution_count": 91,
      "outputs": [
        {
          "output_type": "execute_result",
          "data": {
            "text/plain": [
              "Index(['rank', 'prev_rank', 'name', 'league', 'off', 'def', 'spi',\n",
              "       'prev_rank_class'],\n",
              "      dtype='object')"
            ]
          },
          "metadata": {
            "tags": []
          },
          "execution_count": 91
        }
      ]
    },
    {
      "cell_type": "code",
      "metadata": {
        "id": "a9bGmgqoJpAs",
        "colab_type": "code",
        "colab": {
          "base_uri": "https://localhost:8080/",
          "height": 168
        },
        "outputId": "9c0b3fbb-8895-4ec7-91e0-5eeac2edd08f"
      },
      "source": [
        "# A continuous variable can be converted to a categorical variable\n",
        "df['off'].describe()"
      ],
      "execution_count": 92,
      "outputs": [
        {
          "output_type": "execute_result",
          "data": {
            "text/plain": [
              "count    629.000000\n",
              "mean       1.233816\n",
              "std        0.503371\n",
              "min        0.200000\n",
              "25%        0.870000\n",
              "50%        1.190000\n",
              "75%        1.540000\n",
              "max        3.500000\n",
              "Name: off, dtype: float64"
            ]
          },
          "metadata": {
            "tags": []
          },
          "execution_count": 92
        }
      ]
    },
    {
      "cell_type": "code",
      "metadata": {
        "id": "V1O7iP36KHhg",
        "colab_type": "code",
        "colab": {}
      },
      "source": [
        "# Define some variable\n",
        "offbins = [0.20, 0.80, 1.19, 1.549, 3.50]\n",
        "offlabels = ['low', 'medium', 'high', 'vhigh']"
      ],
      "execution_count": 0,
      "outputs": []
    },
    {
      "cell_type": "code",
      "metadata": {
        "id": "5L3p7PXGLAMA",
        "colab_type": "code",
        "colab": {
          "base_uri": "https://localhost:8080/",
          "height": 101
        },
        "outputId": "d1009f7b-8211-44c5-edbc-325fa2d20e7b"
      },
      "source": [
        "# Apply those\n",
        "df['off_groups'] = pd.cut(df['off'], bins=offbins, labels=offlabels)\n",
        "df['off_groups'].value_counts().sort_index()"
      ],
      "execution_count": 94,
      "outputs": [
        {
          "output_type": "execute_result",
          "data": {
            "text/plain": [
              "low       124\n",
              "medium    189\n",
              "high      155\n",
              "vhigh     156\n",
              "Name: off_groups, dtype: int64"
            ]
          },
          "metadata": {
            "tags": []
          },
          "execution_count": 94
        }
      ]
    },
    {
      "cell_type": "code",
      "metadata": {
        "id": "2LaPIjEoOQUi",
        "colab_type": "code",
        "colab": {}
      },
      "source": [
        "# Plot these off group\n",
        "myresults = df['off_groups'].value_counts().sort_index()"
      ],
      "execution_count": 0,
      "outputs": []
    },
    {
      "cell_type": "code",
      "metadata": {
        "id": "TDtE0zS3OdcA",
        "colab_type": "code",
        "colab": {
          "base_uri": "https://localhost:8080/",
          "height": 279
        },
        "outputId": "1f249bac-0528-4a79-80fe-459c23d09359"
      },
      "source": [
        "myresults.plot()"
      ],
      "execution_count": 96,
      "outputs": [
        {
          "output_type": "execute_result",
          "data": {
            "text/plain": [
              "<matplotlib.axes._subplots.AxesSubplot at 0x7efd90767438>"
            ]
          },
          "metadata": {
            "tags": []
          },
          "execution_count": 96
        },
        {
          "output_type": "display_data",
          "data": {
            "image/png": "[encoded data removed]",
            "text/plain": [
              "<Figure size 432x288 with 1 Axes>"
            ]
          },
          "metadata": {
            "tags": []
          }
        }
      ]
    },
    {
      "cell_type": "code",
      "metadata": {
        "id": "LOJI2KLNOt0y",
        "colab_type": "code",
        "colab": {
          "base_uri": "https://localhost:8080/",
          "height": 297
        },
        "outputId": "6c4af1c5-f024-48c4-a3d6-954224dfa20e"
      },
      "source": [
        "myresults.plot(ylim = (0, 200), kind='bar');"
      ],
      "execution_count": 97,
      "outputs": [
        {
          "output_type": "display_data",
          "data": {
            "image/png": "[encoded data removed]",
            "text/plain": [
              "<Figure size 432x288 with 1 Axes>"
            ]
          },
          "metadata": {
            "tags": []
          }
        }
      ]
    },
    {
      "cell_type": "code",
      "metadata": {
        "id": "Oz5EfSx7O8ZI",
        "colab_type": "code",
        "colab": {
          "base_uri": "https://localhost:8080/",
          "height": 168
        },
        "outputId": "6f7f017f-8398-4b2e-dfa6-387941d26364"
      },
      "source": [
        "df['def'].describe()"
      ],
      "execution_count": 98,
      "outputs": [
        {
          "output_type": "execute_result",
          "data": {
            "text/plain": [
              "count    629.000000\n",
              "mean       1.439730\n",
              "std        0.446457\n",
              "min        0.210000\n",
              "25%        1.130000\n",
              "50%        1.430000\n",
              "75%        1.750000\n",
              "max        2.640000\n",
              "Name: def, dtype: float64"
            ]
          },
          "metadata": {
            "tags": []
          },
          "execution_count": 98
        }
      ]
    },
    {
      "cell_type": "code",
      "metadata": {
        "id": "ydSmLRAhqmPu",
        "colab_type": "code",
        "colab": {
          "base_uri": "https://localhost:8080/",
          "height": 262
        },
        "outputId": "5f5e32e3-d924-40d1-a035-26dda83b947b"
      },
      "source": [
        "df['def'].plot(kind='hist', bins=25, color='blue', figsize=(16,4));"
      ],
      "execution_count": 99,
      "outputs": [
        {
          "output_type": "display_data",
          "data": {
            "image/png": "[encoded data removed]",
            "text/plain": [
              "<Figure size 1152x288 with 1 Axes>"
            ]
          },
          "metadata": {
            "tags": []
          }
        }
      ]
    },
    {
      "cell_type": "code",
      "metadata": {
        "id": "YNuoTFs_rR1X",
        "colab_type": "code",
        "colab": {
          "base_uri": "https://localhost:8080/",
          "height": 262
        },
        "outputId": "55963ca6-28f7-4613-dc83-72c50056694a"
      },
      "source": [
        "# Histogram of continuous variable, broken out by categorical variable\n",
        "df[df['prev_rank_class']=='first']['def'].plot(kind='hist', bins=25, color='black', figsize=(16,4), alpha=0.5);\n",
        "df[df['prev_rank_class']=='second']['def'].plot(kind='hist', bins=25, color='yellow', figsize=(16,4), alpha=0.5);\n",
        "df[df['prev_rank_class']=='third']['def'].plot(kind='hist', bins=25, color='gray', figsize=(16,4), alpha=0.5);"
      ],
      "execution_count": 100,
      "outputs": [
        {
          "output_type": "display_data",
          "data": {
            "image/png": "[encoded data removed]",
            "text/plain": [
              "<Figure size 1152x288 with 1 Axes>"
            ]
          },
          "metadata": {
            "tags": []
          }
        }
      ]
    },
    {
      "cell_type": "code",
      "metadata": {
        "id": "x8vZr6ZqvCVn",
        "colab_type": "code",
        "colab": {
          "base_uri": "https://localhost:8080/",
          "height": 310
        },
        "outputId": "575a6816-684d-420f-deee-ad8f7c7005d7"
      },
      "source": [
        "# Bar chart\n",
        "df['off_groups'].value_counts().sort_index().plot(kind='bar')"
      ],
      "execution_count": 101,
      "outputs": [
        {
          "output_type": "execute_result",
          "data": {
            "text/plain": [
              "<matplotlib.axes._subplots.AxesSubplot at 0x7efd91d3dc88>"
            ]
          },
          "metadata": {
            "tags": []
          },
          "execution_count": 101
        },
        {
          "output_type": "display_data",
          "data": {
            "image/png": "[encoded data removed]",
            "text/plain": [
              "<Figure size 432x288 with 1 Axes>"
            ]
          },
          "metadata": {
            "tags": []
          }
        }
      ]
    },
    {
      "cell_type": "code",
      "metadata": {
        "id": "IuH2eCvIvPSw",
        "colab_type": "code",
        "colab": {
          "base_uri": "https://localhost:8080/",
          "height": 248
        },
        "outputId": "1cd76405-ff3f-4593-d602-494addb67f3d"
      },
      "source": [
        "# Pie chart\n",
        "df['off_groups'].value_counts().plot(kind='pie', figsize=(4,4));"
      ],
      "execution_count": 102,
      "outputs": [
        {
          "output_type": "display_data",
          "data": {
            "image/png": "[encoded data removed]",
            "text/plain": [
              "<Figure size 288x288 with 1 Axes>"
            ]
          },
          "metadata": {
            "tags": []
          }
        }
      ]
    },
    {
      "cell_type": "code",
      "metadata": {
        "id": "z4bl3rfwvsMf",
        "colab_type": "code",
        "colab": {}
      },
      "source": [
        "# Two categorical variables using crosstab\n",
        "cab_death = pd.crosstab(df['prev_rank_class'], df['rank'])"
      ],
      "execution_count": 0,
      "outputs": []
    },
    {
      "cell_type": "code",
      "metadata": {
        "id": "1W666hhHwHyS",
        "colab_type": "code",
        "colab": {
          "base_uri": "https://localhost:8080/",
          "height": 304
        },
        "outputId": "0d14928a-54d3-4614-da26-5fecd1878b50"
      },
      "source": [
        "# Bar chart.\n",
        "cab_death.plot(kind='bar');"
      ],
      "execution_count": 104,
      "outputs": [
        {
          "output_type": "display_data",
          "data": {
            "image/png": "[encoded data removed]",
            "text/plain": [
              "<Figure size 432x288 with 1 Axes>"
            ]
          },
          "metadata": {
            "tags": []
          }
        }
      ]
    },
    {
      "cell_type": "code",
      "metadata": {
        "id": "Xq_L4-tAwTZC",
        "colab_type": "code",
        "colab": {
          "base_uri": "https://localhost:8080/",
          "height": 166
        },
        "outputId": "67950036-17d5-460b-ff78-5196653ff4ed"
      },
      "source": [
        "# Crosstab with column percents.\n",
        "cab_death1 = pd.crosstab(df['prev_rank_class'], df['rank'], normalize='index')\n",
        "cab_death1"
      ],
      "execution_count": 105,
      "outputs": [
        {
          "output_type": "execute_result",
          "data": {
            "text/html": [
              "<div>\n",
              "<style scoped>\n",
              "    .dataframe tbody tr th:only-of-type {\n",
              "        vertical-align: middle;\n",
              "    }\n",
              "\n",
              "    .dataframe tbody tr th {\n",
              "        vertical-align: top;\n",
              "    }\n",
              "\n",
              "    .dataframe thead th {\n",
              "        text-align: right;\n",
              "    }\n",
              "</style>\n",
              "<table border=\"1\" class=\"dataframe\">\n",
              "  <thead>\n",
              "    <tr style=\"text-align: right;\">\n",
              "      <th>rank</th>\n",
              "      <th>1</th>\n",
              "      <th>2</th>\n",
              "      <th>3</th>\n",
              "    </tr>\n",
              "    <tr>\n",
              "      <th>prev_rank_class</th>\n",
              "      <th></th>\n",
              "      <th></th>\n",
              "      <th></th>\n",
              "    </tr>\n",
              "  </thead>\n",
              "  <tbody>\n",
              "    <tr>\n",
              "      <th>first</th>\n",
              "      <td>1.0</td>\n",
              "      <td>0.0</td>\n",
              "      <td>0.0</td>\n",
              "    </tr>\n",
              "    <tr>\n",
              "      <th>second</th>\n",
              "      <td>0.0</td>\n",
              "      <td>1.0</td>\n",
              "      <td>0.0</td>\n",
              "    </tr>\n",
              "    <tr>\n",
              "      <th>third</th>\n",
              "      <td>0.0</td>\n",
              "      <td>0.0</td>\n",
              "      <td>1.0</td>\n",
              "    </tr>\n",
              "  </tbody>\n",
              "</table>\n",
              "</div>"
            ],
            "text/plain": [
              "rank               1    2    3\n",
              "prev_rank_class               \n",
              "first            1.0  0.0  0.0\n",
              "second           0.0  1.0  0.0\n",
              "third            0.0  0.0  1.0"
            ]
          },
          "metadata": {
            "tags": []
          },
          "execution_count": 105
        }
      ]
    },
    {
      "cell_type": "code",
      "metadata": {
        "id": "leBadzE-wjaw",
        "colab_type": "code",
        "colab": {
          "base_uri": "https://localhost:8080/",
          "height": 279
        },
        "outputId": "8af1e278-4cb2-4464-8a60-67d77442febe"
      },
      "source": [
        "# Bar chart, for easy comparison of two categorical variables.\n",
        "cab_death1.plot(kind='barh', stacked=True, color=['blue', 'gray'])"
      ],
      "execution_count": 106,
      "outputs": [
        {
          "output_type": "execute_result",
          "data": {
            "text/plain": [
              "<matplotlib.axes._subplots.AxesSubplot at 0x7efd920ef5f8>"
            ]
          },
          "metadata": {
            "tags": []
          },
          "execution_count": 106
        },
        {
          "output_type": "display_data",
          "data": {
            "image/png": "[encoded data removed]",
            "text/plain": [
              "<Figure size 432x288 with 1 Axes>"
            ]
          },
          "metadata": {
            "tags": []
          }
        }
      ]
    },
    {
      "cell_type": "code",
      "metadata": {
        "id": "E-Gw23Ktw0b_",
        "colab_type": "code",
        "colab": {
          "base_uri": "https://localhost:8080/",
          "height": 34
        },
        "outputId": "8a7b9ebf-165c-4f12-e4ce-c23c9b141cab"
      },
      "source": [
        "df['def'].mean()"
      ],
      "execution_count": 107,
      "outputs": [
        {
          "output_type": "execute_result",
          "data": {
            "text/plain": [
              "1.4397297297297291"
            ]
          },
          "metadata": {
            "tags": []
          },
          "execution_count": 107
        }
      ]
    },
    {
      "cell_type": "code",
      "metadata": {
        "id": "FJebvg-Gw__x",
        "colab_type": "code",
        "colab": {
          "base_uri": "https://localhost:8080/",
          "height": 101
        },
        "outputId": "2de50deb-8ec0-4b12-d71c-2c8a26d11ff0"
      },
      "source": [
        "df.groupby('prev_rank_class')['def'].mean()"
      ],
      "execution_count": 108,
      "outputs": [
        {
          "output_type": "execute_result",
          "data": {
            "text/plain": [
              "prev_rank_class\n",
              "first     0.21\n",
              "second    0.38\n",
              "third     0.31\n",
              "Name: def, dtype: float64"
            ]
          },
          "metadata": {
            "tags": []
          },
          "execution_count": 108
        }
      ]
    },
    {
      "cell_type": "code",
      "metadata": {
        "id": "_Fd5Qpo7xgOG",
        "colab_type": "code",
        "colab": {
          "base_uri": "https://localhost:8080/",
          "height": 262
        },
        "outputId": "60ac67c0-7c54-4ba5-9546-6e45e2073195"
      },
      "source": [
        "df.groupby('prev_rank_class')['def'].mean().plot(kind='box');"
      ],
      "execution_count": 109,
      "outputs": [
        {
          "output_type": "display_data",
          "data": {
            "image/png": "[encoded data removed]",
            "text/plain": [
              "<Figure size 432x288 with 1 Axes>"
            ]
          },
          "metadata": {
            "tags": []
          }
        }
      ]
    },
    {
      "cell_type": "code",
      "metadata": {
        "id": "fRioAQH_xr3-",
        "colab_type": "code",
        "colab": {
          "base_uri": "https://localhost:8080/",
          "height": 317
        },
        "outputId": "cfc54936-54a5-4741-8b7d-444854ed2770"
      },
      "source": [
        "# Boxplot\n",
        "df.boxplot(column='def', by='prev_rank_class')"
      ],
      "execution_count": 110,
      "outputs": [
        {
          "output_type": "execute_result",
          "data": {
            "text/plain": [
              "<matplotlib.axes._subplots.AxesSubplot at 0x7efd904ad9e8>"
            ]
          },
          "metadata": {
            "tags": []
          },
          "execution_count": 110
        },
        {
          "output_type": "display_data",
          "data": {
            "image/png": "[encoded data removed]",
            "text/plain": [
              "<Figure size 432x288 with 1 Axes>"
            ]
          },
          "metadata": {
            "tags": []
          }
        }
      ]
    },
    {
      "cell_type": "code",
      "metadata": {
        "id": "IFIEeKi8yYb9",
        "colab_type": "code",
        "colab": {
          "base_uri": "https://localhost:8080/",
          "height": 279
        },
        "outputId": "f06a8170-8385-4eb3-dfca-b25c52c25e25"
      },
      "source": [
        "# Two continuous variables: off by def\n",
        "df.plot(kind='scatter', x='off' , y='def');"
      ],
      "execution_count": 111,
      "outputs": [
        {
          "output_type": "display_data",
          "data": {
            "image/png": "[encoded data removed]",
            "text/plain": [
              "<Figure size 432x288 with 1 Axes>"
            ]
          },
          "metadata": {
            "tags": []
          }
        }
      ]
    },
    {
      "cell_type": "code",
      "metadata": {
        "id": "0VAQk9AQypPW",
        "colab_type": "code",
        "colab": {
          "base_uri": "https://localhost:8080/",
          "height": 279
        },
        "outputId": "f856f4f5-25cc-48c4-95fc-da3b3a1054c3"
      },
      "source": [
        "# line chart: def by off\n",
        "df.groupby('def')['off'].mean().plot(figsize=(12,4));"
      ],
      "execution_count": 112,
      "outputs": [
        {
          "output_type": "display_data",
          "data": {
            "image/png": "[encoded data removed]",
            "text/plain": [
              "<Figure size 864x288 with 1 Axes>"
            ]
          },
          "metadata": {
            "tags": []
          }
        }
      ]
    },
    {
      "cell_type": "code",
      "metadata": {
        "id": "VAR1qvX4zVEO",
        "colab_type": "code",
        "colab": {
          "base_uri": "https://localhost:8080/",
          "height": 195
        },
        "outputId": "5668f800-980b-4d88-cbab-2a25b05fd985"
      },
      "source": [
        "# Correlation\n",
        "df.corr()"
      ],
      "execution_count": 113,
      "outputs": [
        {
          "output_type": "execute_result",
          "data": {
            "text/html": [
              "<div>\n",
              "<style scoped>\n",
              "    .dataframe tbody tr th:only-of-type {\n",
              "        vertical-align: middle;\n",
              "    }\n",
              "\n",
              "    .dataframe tbody tr th {\n",
              "        vertical-align: top;\n",
              "    }\n",
              "\n",
              "    .dataframe thead th {\n",
              "        text-align: right;\n",
              "    }\n",
              "</style>\n",
              "<table border=\"1\" class=\"dataframe\">\n",
              "  <thead>\n",
              "    <tr style=\"text-align: right;\">\n",
              "      <th></th>\n",
              "      <th>rank</th>\n",
              "      <th>prev_rank</th>\n",
              "      <th>off</th>\n",
              "      <th>def</th>\n",
              "      <th>spi</th>\n",
              "    </tr>\n",
              "  </thead>\n",
              "  <tbody>\n",
              "    <tr>\n",
              "      <th>rank</th>\n",
              "      <td>1.000000</td>\n",
              "      <td>0.999699</td>\n",
              "      <td>-0.920779</td>\n",
              "      <td>0.910588</td>\n",
              "      <td>-0.983296</td>\n",
              "    </tr>\n",
              "    <tr>\n",
              "      <th>prev_rank</th>\n",
              "      <td>0.999699</td>\n",
              "      <td>1.000000</td>\n",
              "      <td>-0.920823</td>\n",
              "      <td>0.910027</td>\n",
              "      <td>-0.983057</td>\n",
              "    </tr>\n",
              "    <tr>\n",
              "      <th>off</th>\n",
              "      <td>-0.920779</td>\n",
              "      <td>-0.920823</td>\n",
              "      <td>1.000000</td>\n",
              "      <td>-0.781659</td>\n",
              "      <td>0.952009</td>\n",
              "    </tr>\n",
              "    <tr>\n",
              "      <th>def</th>\n",
              "      <td>0.910588</td>\n",
              "      <td>0.910027</td>\n",
              "      <td>-0.781659</td>\n",
              "      <td>1.000000</td>\n",
              "      <td>-0.923962</td>\n",
              "    </tr>\n",
              "    <tr>\n",
              "      <th>spi</th>\n",
              "      <td>-0.983296</td>\n",
              "      <td>-0.983057</td>\n",
              "      <td>0.952009</td>\n",
              "      <td>-0.923962</td>\n",
              "      <td>1.000000</td>\n",
              "    </tr>\n",
              "  </tbody>\n",
              "</table>\n",
              "</div>"
            ],
            "text/plain": [
              "               rank  prev_rank       off       def       spi\n",
              "rank       1.000000   0.999699 -0.920779  0.910588 -0.983296\n",
              "prev_rank  0.999699   1.000000 -0.920823  0.910027 -0.983057\n",
              "off       -0.920779  -0.920823  1.000000 -0.781659  0.952009\n",
              "def        0.910588   0.910027 -0.781659  1.000000 -0.923962\n",
              "spi       -0.983296  -0.983057  0.952009 -0.923962  1.000000"
            ]
          },
          "metadata": {
            "tags": []
          },
          "execution_count": 113
        }
      ]
    },
    {
      "cell_type": "code",
      "metadata": {
        "id": "HS2JiojQzoye",
        "colab_type": "code",
        "colab": {
          "base_uri": "https://localhost:8080/",
          "height": 262
        },
        "outputId": "b5737775-409b-4669-d8d5-ded90881a630"
      },
      "source": [
        "plt.imshow(df.corr());"
      ],
      "execution_count": 114,
      "outputs": [
        {
          "output_type": "display_data",
          "data": {
            "image/png": "[encoded data removed]",
            "text/plain": [
              "<Figure size 432x288 with 1 Axes>"
            ]
          },
          "metadata": {
            "tags": []
          }
        }
      ]
    },
    {
      "cell_type": "code",
      "metadata": {
        "id": "wi6AtJ8izypQ",
        "colab_type": "code",
        "colab": {
          "base_uri": "https://localhost:8080/",
          "height": 284
        },
        "outputId": "ace393d7-bb20-4a20-d3dc-6ea98e0f935a"
      },
      "source": [
        "# Seabone\n",
        "sns.heatmap(df.corr())"
      ],
      "execution_count": 115,
      "outputs": [
        {
          "output_type": "execute_result",
          "data": {
            "text/plain": [
              "<matplotlib.axes._subplots.AxesSubplot at 0x7efd902e66a0>"
            ]
          },
          "metadata": {
            "tags": []
          },
          "execution_count": 115
        },
        {
          "output_type": "display_data",
          "data": {
            "image/png": "[encoded data removed]",
            "text/plain": [
              "<Figure size 432x288 with 2 Axes>"
            ]
          },
          "metadata": {
            "tags": []
          }
        }
      ]
    },
    {
      "cell_type": "code",
      "metadata": {
        "id": "LGGqiUn77PjW",
        "colab_type": "code",
        "colab": {}
      },
      "source": [
        "import numpy as np\n",
        "import matplotlib.pyplot as plt\n",
        "from matplotlib.ticker import AutoMinorLocator, MultipleLocator, FuncFormatter"
      ],
      "execution_count": 0,
      "outputs": []
    },
    {
      "cell_type": "code",
      "metadata": {
        "id": "aKfPvp5u70Fc",
        "colab_type": "code",
        "colab": {
          "base_uri": "https://localhost:8080/",
          "height": 355
        },
        "outputId": "02feb655-961b-4e50-96e8-5b393addcc95"
      },
      "source": [
        "df3 = 'https://fivethirtyeight.com/wp-content/uploads/2017/09/mehtahickey-inconvenient-0830-1.png'\n",
        "display(example)"
      ],
      "execution_count": 117,
      "outputs": [
        {
          "output_type": "display_data",
          "data": {
            "text/html": [
              "<img src=\"https://fivethirtyeight.com/wp-content/uploads/2017/09/mehtahickey-inconvenient-0830-1.png\" width=\"400\"/>"
            ],
            "text/plain": [
              "<IPython.core.display.Image object>"
            ]
          },
          "metadata": {
            "tags": []
          }
        }
      ]
    },
    {
      "cell_type": "code",
      "metadata": {
        "id": "mvlqVZ2T8ZmT",
        "colab_type": "code",
        "colab": {}
      },
      "source": [
        "plt.style.available\n",
        "plt.style.use('fivethirtyeight')"
      ],
      "execution_count": 0,
      "outputs": []
    },
    {
      "cell_type": "code",
      "metadata": {
        "id": "LupfrZ258bqR",
        "colab_type": "code",
        "colab": {}
      },
      "source": [
        "fakelist=[38, 3, 2, 1, 2, 4, 6, 5, 5, 33]"
      ],
      "execution_count": 0,
      "outputs": []
    },
    {
      "cell_type": "code",
      "metadata": {
        "id": "u_Jjtkny8f8s",
        "colab_type": "code",
        "colab": {
          "base_uri": "https://localhost:8080/",
          "height": 285
        },
        "outputId": "b04ceeba-a804-49d0-d72a-5733fd754edc"
      },
      "source": [
        "fakeseries = pd.Series(fakelist, index=range(1,11))\n",
        "fakeseries.plot.bar(color='C1', width=0.9);"
      ],
      "execution_count": 120,
      "outputs": [
        {
          "output_type": "display_data",
          "data": {
            "image/png": "[encoded data removed]",
            "text/plain": [
              "<Figure size 432x288 with 1 Axes>"
            ]
          },
          "metadata": {
            "tags": []
          }
        }
      ]
    },
    {
      "cell_type": "code",
      "metadata": {
        "id": "Mv6acLIH8rVY",
        "colab_type": "code",
        "colab": {}
      },
      "source": [
        "fakelist2=[1, 1, 1, 1, 1, 1, 1, 1, 1, 1, 1, 1, 1, 1, 1, 1, 1, 1, 1, 1, 1, 1, 1, 1,1,1,1,1,1,1,1,1,1,1,1,1,1,\n",
        "     2, 2, 2, \n",
        "     3, 3, 3,\n",
        "     4, 4,\n",
        "     5, 5, 5,\n",
        "     6, 6, 6, 6,\n",
        "     7, 7, 7, 7, 7,\n",
        "     8, 8, 8, 8,\n",
        "     9, 9, 9, 9, \n",
        "     10, 10, 10, 10, 10, 10, 10, 10, 10, 10, 10, 10, 10, 10, 10, 10, 10, 10]\n"
      ],
      "execution_count": 0,
      "outputs": []
    },
    {
      "cell_type": "code",
      "metadata": {
        "id": "UMmQyMmY8vZl",
        "colab_type": "code",
        "colab": {
          "base_uri": "https://localhost:8080/",
          "height": 302
        },
        "outputId": "3a2faaa1-b1d8-47ab-d593-f32e89ba541f"
      },
      "source": [
        "fakeseries2 = pd.Series(fakelist2)\n",
        "fakeseries2.value_counts().sort_index().plot.bar(color='C1', width=0.9)"
      ],
      "execution_count": 122,
      "outputs": [
        {
          "output_type": "execute_result",
          "data": {
            "text/plain": [
              "<matplotlib.axes._subplots.AxesSubplot at 0x7efd920d4160>"
            ]
          },
          "metadata": {
            "tags": []
          },
          "execution_count": 122
        },
        {
          "output_type": "display_data",
          "data": {
            "image/png": "[encoded data removed]",
            "text/plain": [
              "<Figure size 432x288 with 1 Axes>"
            ]
          },
          "metadata": {
            "tags": []
          }
        }
      ]
    },
    {
      "cell_type": "code",
      "metadata": {
        "id": "NjlsKP0887go",
        "colab_type": "code",
        "colab": {
          "base_uri": "https://localhost:8080/",
          "height": 366
        },
        "outputId": "96ad68d1-b29e-47d0-9aa8-a5c23ebfdbec"
      },
      "source": [
        "df538 = pd.read_csv('https://projects.fivethirtyeight.com/soccer-api/club/spi_matches.csv')\n",
        "df538.head()"
      ],
      "execution_count": 123,
      "outputs": [
        {
          "output_type": "execute_result",
          "data": {
            "text/html": [
              "<div>\n",
              "<style scoped>\n",
              "    .dataframe tbody tr th:only-of-type {\n",
              "        vertical-align: middle;\n",
              "    }\n",
              "\n",
              "    .dataframe tbody tr th {\n",
              "        vertical-align: top;\n",
              "    }\n",
              "\n",
              "    .dataframe thead th {\n",
              "        text-align: right;\n",
              "    }\n",
              "</style>\n",
              "<table border=\"1\" class=\"dataframe\">\n",
              "  <thead>\n",
              "    <tr style=\"text-align: right;\">\n",
              "      <th></th>\n",
              "      <th>date</th>\n",
              "      <th>league_id</th>\n",
              "      <th>league</th>\n",
              "      <th>team1</th>\n",
              "      <th>team2</th>\n",
              "      <th>spi1</th>\n",
              "      <th>spi2</th>\n",
              "      <th>prob1</th>\n",
              "      <th>prob2</th>\n",
              "      <th>probtie</th>\n",
              "      <th>proj_score1</th>\n",
              "      <th>proj_score2</th>\n",
              "      <th>importance1</th>\n",
              "      <th>importance2</th>\n",
              "      <th>score1</th>\n",
              "      <th>score2</th>\n",
              "      <th>xg1</th>\n",
              "      <th>xg2</th>\n",
              "      <th>nsxg1</th>\n",
              "      <th>nsxg2</th>\n",
              "      <th>adj_score1</th>\n",
              "      <th>adj_score2</th>\n",
              "    </tr>\n",
              "  </thead>\n",
              "  <tbody>\n",
              "    <tr>\n",
              "      <th>0</th>\n",
              "      <td>2016-08-12</td>\n",
              "      <td>1843</td>\n",
              "      <td>French Ligue 1</td>\n",
              "      <td>Bastia</td>\n",
              "      <td>Paris Saint-Germain</td>\n",
              "      <td>51.16</td>\n",
              "      <td>85.68</td>\n",
              "      <td>0.0463</td>\n",
              "      <td>0.8380</td>\n",
              "      <td>0.1157</td>\n",
              "      <td>0.91</td>\n",
              "      <td>2.36</td>\n",
              "      <td>32.4</td>\n",
              "      <td>67.7</td>\n",
              "      <td>0.0</td>\n",
              "      <td>1.0</td>\n",
              "      <td>0.97</td>\n",
              "      <td>0.63</td>\n",
              "      <td>0.43</td>\n",
              "      <td>0.45</td>\n",
              "      <td>0.00</td>\n",
              "      <td>1.05</td>\n",
              "    </tr>\n",
              "    <tr>\n",
              "      <th>1</th>\n",
              "      <td>2016-08-12</td>\n",
              "      <td>1843</td>\n",
              "      <td>French Ligue 1</td>\n",
              "      <td>AS Monaco</td>\n",
              "      <td>Guingamp</td>\n",
              "      <td>68.85</td>\n",
              "      <td>56.48</td>\n",
              "      <td>0.5714</td>\n",
              "      <td>0.1669</td>\n",
              "      <td>0.2617</td>\n",
              "      <td>1.82</td>\n",
              "      <td>0.86</td>\n",
              "      <td>53.7</td>\n",
              "      <td>22.9</td>\n",
              "      <td>2.0</td>\n",
              "      <td>2.0</td>\n",
              "      <td>2.45</td>\n",
              "      <td>0.77</td>\n",
              "      <td>1.75</td>\n",
              "      <td>0.42</td>\n",
              "      <td>2.10</td>\n",
              "      <td>2.10</td>\n",
              "    </tr>\n",
              "    <tr>\n",
              "      <th>2</th>\n",
              "      <td>2016-08-13</td>\n",
              "      <td>2411</td>\n",
              "      <td>Barclays Premier League</td>\n",
              "      <td>Hull City</td>\n",
              "      <td>Leicester City</td>\n",
              "      <td>53.57</td>\n",
              "      <td>66.81</td>\n",
              "      <td>0.3459</td>\n",
              "      <td>0.3621</td>\n",
              "      <td>0.2921</td>\n",
              "      <td>1.16</td>\n",
              "      <td>1.24</td>\n",
              "      <td>38.1</td>\n",
              "      <td>22.2</td>\n",
              "      <td>2.0</td>\n",
              "      <td>1.0</td>\n",
              "      <td>0.85</td>\n",
              "      <td>2.77</td>\n",
              "      <td>0.17</td>\n",
              "      <td>1.25</td>\n",
              "      <td>2.10</td>\n",
              "      <td>1.05</td>\n",
              "    </tr>\n",
              "    <tr>\n",
              "      <th>3</th>\n",
              "      <td>2016-08-13</td>\n",
              "      <td>2411</td>\n",
              "      <td>Barclays Premier League</td>\n",
              "      <td>Crystal Palace</td>\n",
              "      <td>West Bromwich Albion</td>\n",
              "      <td>55.19</td>\n",
              "      <td>58.66</td>\n",
              "      <td>0.4214</td>\n",
              "      <td>0.2939</td>\n",
              "      <td>0.2847</td>\n",
              "      <td>1.35</td>\n",
              "      <td>1.14</td>\n",
              "      <td>43.6</td>\n",
              "      <td>34.6</td>\n",
              "      <td>0.0</td>\n",
              "      <td>1.0</td>\n",
              "      <td>1.11</td>\n",
              "      <td>0.68</td>\n",
              "      <td>0.84</td>\n",
              "      <td>1.60</td>\n",
              "      <td>0.00</td>\n",
              "      <td>1.05</td>\n",
              "    </tr>\n",
              "    <tr>\n",
              "      <th>4</th>\n",
              "      <td>2016-08-13</td>\n",
              "      <td>2411</td>\n",
              "      <td>Barclays Premier League</td>\n",
              "      <td>Everton</td>\n",
              "      <td>Tottenham Hotspur</td>\n",
              "      <td>68.02</td>\n",
              "      <td>73.25</td>\n",
              "      <td>0.3910</td>\n",
              "      <td>0.3401</td>\n",
              "      <td>0.2689</td>\n",
              "      <td>1.47</td>\n",
              "      <td>1.38</td>\n",
              "      <td>31.9</td>\n",
              "      <td>48.0</td>\n",
              "      <td>1.0</td>\n",
              "      <td>1.0</td>\n",
              "      <td>0.73</td>\n",
              "      <td>1.11</td>\n",
              "      <td>0.88</td>\n",
              "      <td>1.81</td>\n",
              "      <td>1.05</td>\n",
              "      <td>1.05</td>\n",
              "    </tr>\n",
              "  </tbody>\n",
              "</table>\n",
              "</div>"
            ],
            "text/plain": [
              "         date  league_id  ... adj_score1 adj_score2\n",
              "0  2016-08-12       1843  ...       0.00       1.05\n",
              "1  2016-08-12       1843  ...       2.10       2.10\n",
              "2  2016-08-13       2411  ...       2.10       1.05\n",
              "3  2016-08-13       2411  ...       0.00       1.05\n",
              "4  2016-08-13       2411  ...       1.05       1.05\n",
              "\n",
              "[5 rows x 22 columns]"
            ]
          },
          "metadata": {
            "tags": []
          },
          "execution_count": 123
        }
      ]
    },
    {
      "cell_type": "code",
      "metadata": {
        "id": "4SK1nvsu9NC2",
        "colab_type": "code",
        "colab": {
          "base_uri": "https://localhost:8080/",
          "height": 195
        },
        "outputId": "7852d271-563a-4688-a2ec-3db846b91761"
      },
      "source": [
        "df538['date_year'] = pd.to_datetime(df538['date'])\n",
        "df538[['date', 'date_year']].head()"
      ],
      "execution_count": 124,
      "outputs": [
        {
          "output_type": "execute_result",
          "data": {
            "text/html": [
              "<div>\n",
              "<style scoped>\n",
              "    .dataframe tbody tr th:only-of-type {\n",
              "        vertical-align: middle;\n",
              "    }\n",
              "\n",
              "    .dataframe tbody tr th {\n",
              "        vertical-align: top;\n",
              "    }\n",
              "\n",
              "    .dataframe thead th {\n",
              "        text-align: right;\n",
              "    }\n",
              "</style>\n",
              "<table border=\"1\" class=\"dataframe\">\n",
              "  <thead>\n",
              "    <tr style=\"text-align: right;\">\n",
              "      <th></th>\n",
              "      <th>date</th>\n",
              "      <th>date_year</th>\n",
              "    </tr>\n",
              "  </thead>\n",
              "  <tbody>\n",
              "    <tr>\n",
              "      <th>0</th>\n",
              "      <td>2016-08-12</td>\n",
              "      <td>2016-08-12</td>\n",
              "    </tr>\n",
              "    <tr>\n",
              "      <th>1</th>\n",
              "      <td>2016-08-12</td>\n",
              "      <td>2016-08-12</td>\n",
              "    </tr>\n",
              "    <tr>\n",
              "      <th>2</th>\n",
              "      <td>2016-08-13</td>\n",
              "      <td>2016-08-13</td>\n",
              "    </tr>\n",
              "    <tr>\n",
              "      <th>3</th>\n",
              "      <td>2016-08-13</td>\n",
              "      <td>2016-08-13</td>\n",
              "    </tr>\n",
              "    <tr>\n",
              "      <th>4</th>\n",
              "      <td>2016-08-13</td>\n",
              "      <td>2016-08-13</td>\n",
              "    </tr>\n",
              "  </tbody>\n",
              "</table>\n",
              "</div>"
            ],
            "text/plain": [
              "         date  date_year\n",
              "0  2016-08-12 2016-08-12\n",
              "1  2016-08-12 2016-08-12\n",
              "2  2016-08-13 2016-08-13\n",
              "3  2016-08-13 2016-08-13\n",
              "4  2016-08-13 2016-08-13"
            ]
          },
          "metadata": {
            "tags": []
          },
          "execution_count": 124
        }
      ]
    },
    {
      "cell_type": "code",
      "metadata": {
        "id": "X7TDfDbs9wvY",
        "colab_type": "code",
        "colab": {
          "base_uri": "https://localhost:8080/",
          "height": 396
        },
        "outputId": "4f3c8745-1e27-4e14-c91a-1db0b49a0174"
      },
      "source": [
        "df538.set_index('date_year', inplace=True)\n",
        "df538.drop('date', axis=1, inplace=True)\n",
        "df538.head()"
      ],
      "execution_count": 125,
      "outputs": [
        {
          "output_type": "execute_result",
          "data": {
            "text/html": [
              "<div>\n",
              "<style scoped>\n",
              "    .dataframe tbody tr th:only-of-type {\n",
              "        vertical-align: middle;\n",
              "    }\n",
              "\n",
              "    .dataframe tbody tr th {\n",
              "        vertical-align: top;\n",
              "    }\n",
              "\n",
              "    .dataframe thead th {\n",
              "        text-align: right;\n",
              "    }\n",
              "</style>\n",
              "<table border=\"1\" class=\"dataframe\">\n",
              "  <thead>\n",
              "    <tr style=\"text-align: right;\">\n",
              "      <th></th>\n",
              "      <th>league_id</th>\n",
              "      <th>league</th>\n",
              "      <th>team1</th>\n",
              "      <th>team2</th>\n",
              "      <th>spi1</th>\n",
              "      <th>spi2</th>\n",
              "      <th>prob1</th>\n",
              "      <th>prob2</th>\n",
              "      <th>probtie</th>\n",
              "      <th>proj_score1</th>\n",
              "      <th>proj_score2</th>\n",
              "      <th>importance1</th>\n",
              "      <th>importance2</th>\n",
              "      <th>score1</th>\n",
              "      <th>score2</th>\n",
              "      <th>xg1</th>\n",
              "      <th>xg2</th>\n",
              "      <th>nsxg1</th>\n",
              "      <th>nsxg2</th>\n",
              "      <th>adj_score1</th>\n",
              "      <th>adj_score2</th>\n",
              "    </tr>\n",
              "    <tr>\n",
              "      <th>date_year</th>\n",
              "      <th></th>\n",
              "      <th></th>\n",
              "      <th></th>\n",
              "      <th></th>\n",
              "      <th></th>\n",
              "      <th></th>\n",
              "      <th></th>\n",
              "      <th></th>\n",
              "      <th></th>\n",
              "      <th></th>\n",
              "      <th></th>\n",
              "      <th></th>\n",
              "      <th></th>\n",
              "      <th></th>\n",
              "      <th></th>\n",
              "      <th></th>\n",
              "      <th></th>\n",
              "      <th></th>\n",
              "      <th></th>\n",
              "      <th></th>\n",
              "      <th></th>\n",
              "    </tr>\n",
              "  </thead>\n",
              "  <tbody>\n",
              "    <tr>\n",
              "      <th>2016-08-12</th>\n",
              "      <td>1843</td>\n",
              "      <td>French Ligue 1</td>\n",
              "      <td>Bastia</td>\n",
              "      <td>Paris Saint-Germain</td>\n",
              "      <td>51.16</td>\n",
              "      <td>85.68</td>\n",
              "      <td>0.0463</td>\n",
              "      <td>0.8380</td>\n",
              "      <td>0.1157</td>\n",
              "      <td>0.91</td>\n",
              "      <td>2.36</td>\n",
              "      <td>32.4</td>\n",
              "      <td>67.7</td>\n",
              "      <td>0.0</td>\n",
              "      <td>1.0</td>\n",
              "      <td>0.97</td>\n",
              "      <td>0.63</td>\n",
              "      <td>0.43</td>\n",
              "      <td>0.45</td>\n",
              "      <td>0.00</td>\n",
              "      <td>1.05</td>\n",
              "    </tr>\n",
              "    <tr>\n",
              "      <th>2016-08-12</th>\n",
              "      <td>1843</td>\n",
              "      <td>French Ligue 1</td>\n",
              "      <td>AS Monaco</td>\n",
              "      <td>Guingamp</td>\n",
              "      <td>68.85</td>\n",
              "      <td>56.48</td>\n",
              "      <td>0.5714</td>\n",
              "      <td>0.1669</td>\n",
              "      <td>0.2617</td>\n",
              "      <td>1.82</td>\n",
              "      <td>0.86</td>\n",
              "      <td>53.7</td>\n",
              "      <td>22.9</td>\n",
              "      <td>2.0</td>\n",
              "      <td>2.0</td>\n",
              "      <td>2.45</td>\n",
              "      <td>0.77</td>\n",
              "      <td>1.75</td>\n",
              "      <td>0.42</td>\n",
              "      <td>2.10</td>\n",
              "      <td>2.10</td>\n",
              "    </tr>\n",
              "    <tr>\n",
              "      <th>2016-08-13</th>\n",
              "      <td>2411</td>\n",
              "      <td>Barclays Premier League</td>\n",
              "      <td>Hull City</td>\n",
              "      <td>Leicester City</td>\n",
              "      <td>53.57</td>\n",
              "      <td>66.81</td>\n",
              "      <td>0.3459</td>\n",
              "      <td>0.3621</td>\n",
              "      <td>0.2921</td>\n",
              "      <td>1.16</td>\n",
              "      <td>1.24</td>\n",
              "      <td>38.1</td>\n",
              "      <td>22.2</td>\n",
              "      <td>2.0</td>\n",
              "      <td>1.0</td>\n",
              "      <td>0.85</td>\n",
              "      <td>2.77</td>\n",
              "      <td>0.17</td>\n",
              "      <td>1.25</td>\n",
              "      <td>2.10</td>\n",
              "      <td>1.05</td>\n",
              "    </tr>\n",
              "    <tr>\n",
              "      <th>2016-08-13</th>\n",
              "      <td>2411</td>\n",
              "      <td>Barclays Premier League</td>\n",
              "      <td>Crystal Palace</td>\n",
              "      <td>West Bromwich Albion</td>\n",
              "      <td>55.19</td>\n",
              "      <td>58.66</td>\n",
              "      <td>0.4214</td>\n",
              "      <td>0.2939</td>\n",
              "      <td>0.2847</td>\n",
              "      <td>1.35</td>\n",
              "      <td>1.14</td>\n",
              "      <td>43.6</td>\n",
              "      <td>34.6</td>\n",
              "      <td>0.0</td>\n",
              "      <td>1.0</td>\n",
              "      <td>1.11</td>\n",
              "      <td>0.68</td>\n",
              "      <td>0.84</td>\n",
              "      <td>1.60</td>\n",
              "      <td>0.00</td>\n",
              "      <td>1.05</td>\n",
              "    </tr>\n",
              "    <tr>\n",
              "      <th>2016-08-13</th>\n",
              "      <td>2411</td>\n",
              "      <td>Barclays Premier League</td>\n",
              "      <td>Everton</td>\n",
              "      <td>Tottenham Hotspur</td>\n",
              "      <td>68.02</td>\n",
              "      <td>73.25</td>\n",
              "      <td>0.3910</td>\n",
              "      <td>0.3401</td>\n",
              "      <td>0.2689</td>\n",
              "      <td>1.47</td>\n",
              "      <td>1.38</td>\n",
              "      <td>31.9</td>\n",
              "      <td>48.0</td>\n",
              "      <td>1.0</td>\n",
              "      <td>1.0</td>\n",
              "      <td>0.73</td>\n",
              "      <td>1.11</td>\n",
              "      <td>0.88</td>\n",
              "      <td>1.81</td>\n",
              "      <td>1.05</td>\n",
              "      <td>1.05</td>\n",
              "    </tr>\n",
              "  </tbody>\n",
              "</table>\n",
              "</div>"
            ],
            "text/plain": [
              "            league_id                   league  ... adj_score1 adj_score2\n",
              "date_year                                       ...                      \n",
              "2016-08-12       1843           French Ligue 1  ...       0.00       1.05\n",
              "2016-08-12       1843           French Ligue 1  ...       2.10       2.10\n",
              "2016-08-13       2411  Barclays Premier League  ...       2.10       1.05\n",
              "2016-08-13       2411  Barclays Premier League  ...       0.00       1.05\n",
              "2016-08-13       2411  Barclays Premier League  ...       1.05       1.05\n",
              "\n",
              "[5 rows x 21 columns]"
            ]
          },
          "metadata": {
            "tags": []
          },
          "execution_count": 125
        }
      ]
    },
    {
      "cell_type": "code",
      "metadata": {
        "id": "pqapH_h7-UG-",
        "colab_type": "code",
        "colab": {
          "base_uri": "https://localhost:8080/",
          "height": 329
        },
        "outputId": "0f175296-73ed-4c5f-94a0-141f8dafa087"
      },
      "source": [
        "df538.tail()"
      ],
      "execution_count": 126,
      "outputs": [
        {
          "output_type": "execute_result",
          "data": {
            "text/html": [
              "<div>\n",
              "<style scoped>\n",
              "    .dataframe tbody tr th:only-of-type {\n",
              "        vertical-align: middle;\n",
              "    }\n",
              "\n",
              "    .dataframe tbody tr th {\n",
              "        vertical-align: top;\n",
              "    }\n",
              "\n",
              "    .dataframe thead th {\n",
              "        text-align: right;\n",
              "    }\n",
              "</style>\n",
              "<table border=\"1\" class=\"dataframe\">\n",
              "  <thead>\n",
              "    <tr style=\"text-align: right;\">\n",
              "      <th></th>\n",
              "      <th>league_id</th>\n",
              "      <th>league</th>\n",
              "      <th>team1</th>\n",
              "      <th>team2</th>\n",
              "      <th>spi1</th>\n",
              "      <th>spi2</th>\n",
              "      <th>prob1</th>\n",
              "      <th>prob2</th>\n",
              "      <th>probtie</th>\n",
              "      <th>proj_score1</th>\n",
              "      <th>proj_score2</th>\n",
              "      <th>importance1</th>\n",
              "      <th>importance2</th>\n",
              "      <th>score1</th>\n",
              "      <th>score2</th>\n",
              "      <th>xg1</th>\n",
              "      <th>xg2</th>\n",
              "      <th>nsxg1</th>\n",
              "      <th>nsxg2</th>\n",
              "      <th>adj_score1</th>\n",
              "      <th>adj_score2</th>\n",
              "    </tr>\n",
              "    <tr>\n",
              "      <th>date_year</th>\n",
              "      <th></th>\n",
              "      <th></th>\n",
              "      <th></th>\n",
              "      <th></th>\n",
              "      <th></th>\n",
              "      <th></th>\n",
              "      <th></th>\n",
              "      <th></th>\n",
              "      <th></th>\n",
              "      <th></th>\n",
              "      <th></th>\n",
              "      <th></th>\n",
              "      <th></th>\n",
              "      <th></th>\n",
              "      <th></th>\n",
              "      <th></th>\n",
              "      <th></th>\n",
              "      <th></th>\n",
              "      <th></th>\n",
              "      <th></th>\n",
              "      <th></th>\n",
              "    </tr>\n",
              "  </thead>\n",
              "  <tbody>\n",
              "    <tr>\n",
              "      <th>2020-12-06</th>\n",
              "      <td>2105</td>\n",
              "      <td>Brasileiro Série A</td>\n",
              "      <td>Atlético Goianiense</td>\n",
              "      <td>Coritiba</td>\n",
              "      <td>38.90</td>\n",
              "      <td>41.08</td>\n",
              "      <td>0.4692</td>\n",
              "      <td>0.2870</td>\n",
              "      <td>0.2438</td>\n",
              "      <td>1.60</td>\n",
              "      <td>1.20</td>\n",
              "      <td>NaN</td>\n",
              "      <td>NaN</td>\n",
              "      <td>NaN</td>\n",
              "      <td>NaN</td>\n",
              "      <td>NaN</td>\n",
              "      <td>NaN</td>\n",
              "      <td>NaN</td>\n",
              "      <td>NaN</td>\n",
              "      <td>NaN</td>\n",
              "      <td>NaN</td>\n",
              "    </tr>\n",
              "    <tr>\n",
              "      <th>2020-12-06</th>\n",
              "      <td>2105</td>\n",
              "      <td>Brasileiro Série A</td>\n",
              "      <td>Bahía</td>\n",
              "      <td>Santos</td>\n",
              "      <td>48.12</td>\n",
              "      <td>61.02</td>\n",
              "      <td>0.3586</td>\n",
              "      <td>0.3800</td>\n",
              "      <td>0.2614</td>\n",
              "      <td>1.27</td>\n",
              "      <td>1.32</td>\n",
              "      <td>NaN</td>\n",
              "      <td>NaN</td>\n",
              "      <td>NaN</td>\n",
              "      <td>NaN</td>\n",
              "      <td>NaN</td>\n",
              "      <td>NaN</td>\n",
              "      <td>NaN</td>\n",
              "      <td>NaN</td>\n",
              "      <td>NaN</td>\n",
              "      <td>NaN</td>\n",
              "    </tr>\n",
              "    <tr>\n",
              "      <th>2020-12-06</th>\n",
              "      <td>2105</td>\n",
              "      <td>Brasileiro Série A</td>\n",
              "      <td>Bragantino</td>\n",
              "      <td>Grêmio</td>\n",
              "      <td>43.00</td>\n",
              "      <td>65.63</td>\n",
              "      <td>0.2652</td>\n",
              "      <td>0.5077</td>\n",
              "      <td>0.2272</td>\n",
              "      <td>1.25</td>\n",
              "      <td>1.82</td>\n",
              "      <td>NaN</td>\n",
              "      <td>NaN</td>\n",
              "      <td>NaN</td>\n",
              "      <td>NaN</td>\n",
              "      <td>NaN</td>\n",
              "      <td>NaN</td>\n",
              "      <td>NaN</td>\n",
              "      <td>NaN</td>\n",
              "      <td>NaN</td>\n",
              "      <td>NaN</td>\n",
              "    </tr>\n",
              "    <tr>\n",
              "      <th>2020-12-06</th>\n",
              "      <td>2105</td>\n",
              "      <td>Brasileiro Série A</td>\n",
              "      <td>Ceará</td>\n",
              "      <td>Botafogo</td>\n",
              "      <td>46.29</td>\n",
              "      <td>40.50</td>\n",
              "      <td>0.5528</td>\n",
              "      <td>0.1984</td>\n",
              "      <td>0.2489</td>\n",
              "      <td>1.58</td>\n",
              "      <td>0.84</td>\n",
              "      <td>NaN</td>\n",
              "      <td>NaN</td>\n",
              "      <td>NaN</td>\n",
              "      <td>NaN</td>\n",
              "      <td>NaN</td>\n",
              "      <td>NaN</td>\n",
              "      <td>NaN</td>\n",
              "      <td>NaN</td>\n",
              "      <td>NaN</td>\n",
              "      <td>NaN</td>\n",
              "    </tr>\n",
              "    <tr>\n",
              "      <th>2020-12-06</th>\n",
              "      <td>2105</td>\n",
              "      <td>Brasileiro Série A</td>\n",
              "      <td>Internacional</td>\n",
              "      <td>Corinthians</td>\n",
              "      <td>55.90</td>\n",
              "      <td>55.51</td>\n",
              "      <td>0.4956</td>\n",
              "      <td>0.2537</td>\n",
              "      <td>0.2507</td>\n",
              "      <td>1.56</td>\n",
              "      <td>1.04</td>\n",
              "      <td>NaN</td>\n",
              "      <td>NaN</td>\n",
              "      <td>NaN</td>\n",
              "      <td>NaN</td>\n",
              "      <td>NaN</td>\n",
              "      <td>NaN</td>\n",
              "      <td>NaN</td>\n",
              "      <td>NaN</td>\n",
              "      <td>NaN</td>\n",
              "      <td>NaN</td>\n",
              "    </tr>\n",
              "  </tbody>\n",
              "</table>\n",
              "</div>"
            ],
            "text/plain": [
              "            league_id              league  ... adj_score1 adj_score2\n",
              "date_year                                  ...                      \n",
              "2020-12-06       2105  Brasileiro Série A  ...        NaN        NaN\n",
              "2020-12-06       2105  Brasileiro Série A  ...        NaN        NaN\n",
              "2020-12-06       2105  Brasileiro Série A  ...        NaN        NaN\n",
              "2020-12-06       2105  Brasileiro Série A  ...        NaN        NaN\n",
              "2020-12-06       2105  Brasileiro Série A  ...        NaN        NaN\n",
              "\n",
              "[5 rows x 21 columns]"
            ]
          },
          "metadata": {
            "tags": []
          },
          "execution_count": 126
        }
      ]
    }
  ]
}